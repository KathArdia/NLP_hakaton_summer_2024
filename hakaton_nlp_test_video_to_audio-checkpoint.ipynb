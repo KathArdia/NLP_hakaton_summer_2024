{
 "cells": [
  {
   "cell_type": "code",
   "execution_count": null,
   "id": "50bcec79",
   "metadata": {},
   "outputs": [],
   "source": [
    "# Установка библиотек\n",
    "!pip install moviepy\n",
    "!pip install pydub\n",
    "!pip install SpeechRecognition\n",
    "!pip install tk"
   ]
  },
  {
   "cell_type": "code",
   "execution_count": null,
   "id": "af7e7bb4",
   "metadata": {},
   "outputs": [],
   "source": [
    "import os\n",
    "from moviepy.editor import VideoFileClip\n",
    "from pydub import AudioSegment\n",
    "from pydub.silence import split_on_silence\n",
    "from tkinter import Tk\n",
    "from tkinter.filedialog import askopenfilename"
   ]
  },
  {
   "cell_type": "code",
   "execution_count": null,
   "id": "c57bb7a7",
   "metadata": {},
   "outputs": [],
   "source": [
    "def extract_audio_from_video(video_file_path, output_audio_path):\n",
    "    # Загрузка видеофайла\n",
    "    video = VideoFileClip(video_file_path)\n",
    "    # Извлечение аудио\n",
    "    audio = video.audio\n",
    "    # Сохранение аудио в формате WAV\n",
    "    audio.write_audiofile(output_audio_path)\n",
    "\n",
    "def split_audio_on_silence_custom(audio_path, min_silence_len=500, silence_thresh=-40, keep_silence=100):\n",
    "    # Загрузка аудиофайла\n",
    "    audio = AudioSegment.from_wav(audio_path)\n",
    "    # Разделение аудио на фрагменты на основе тишины\n",
    "    audio_chunks = split_on_silence(\n",
    "        audio,\n",
    "        min_silence_len=min_silence_len,\n",
    "        silence_thresh=silence_thresh,\n",
    "        keep_silence=keep_silence\n",
    "    )\n",
    "    return audio_chunks\n",
    "\n",
    "def save_audio_chunks(audio_chunks, output_folder):\n",
    "    if not os.path.exists(output_folder):\n",
    "        os.makedirs(output_folder)\n",
    "    for i, chunk in enumerate(audio_chunks):\n",
    "        chunk.export(os.path.join(output_folder, f\"chunk{i}.wav\"), format=\"wav\")\n",
    "\n",
    "# Открытие диалога выбора файла\n",
    "Tk().withdraw()  # Скрыть основное окно Tkinter\n",
    "video_file_path = askopenfilename(title=\"Выберите видеофайл\", filetypes=[(\"MP4 files\", \"*.mp4\"), (\"All files\", \"*.*\")])\n",
    "\n",
    "if video_file_path:\n",
    "    # Определение путей на основе пути к видеофайлу\n",
    "    base_dir = os.path.dirname(video_file_path)\n",
    "    video_filename = os.path.splitext(os.path.basename(video_file_path))[0]\n",
    "    output_audio_path = os.path.join(base_dir, f\"{video_filename}_audio.wav\")\n",
    "    output_folder = os.path.join(base_dir, f\"{video_filename}_chunks\")\n",
    "\n",
    "    # Извлечение аудио из видео\n",
    "    extract_audio_from_video(video_file_path, output_audio_path)\n",
    "\n",
    "    # Нарезка аудио на фрагменты\n",
    "    audio_chunks = split_audio_on_silence_custom(output_audio_path)\n",
    "\n",
    "    # Сохранение фрагментов\n",
    "    save_audio_chunks(audio_chunks, output_folder)\n",
    "\n",
    "    print(f\"Аудиофайл сохранен: {output_audio_path}\")\n",
    "    print(f\"Фрагменты аудио сохранены в папке: {output_folder}\")\n",
    "else:\n",
    "    print(\"Видео файл не был выбран.\")"
   ]
  }
 ],
 "metadata": {
  "kernelspec": {
   "display_name": "Python 3 (ipykernel)",
   "language": "python",
   "name": "python3"
  },
  "language_info": {
   "codemirror_mode": {
    "name": "ipython",
    "version": 3
   },
   "file_extension": ".py",
   "mimetype": "text/x-python",
   "name": "python",
   "nbconvert_exporter": "python",
   "pygments_lexer": "ipython3",
   "version": "3.9.18"
  }
 },
 "nbformat": 4,
 "nbformat_minor": 5
}
