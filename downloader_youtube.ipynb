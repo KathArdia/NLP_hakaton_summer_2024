{
 "cells": [
  {
   "cell_type": "code",
   "execution_count": null,
   "id": "5971b68d",
   "metadata": {},
   "outputs": [],
   "source": [
    "pip install pytube"
   ]
  },
  {
   "cell_type": "code",
   "execution_count": null,
   "id": "81b8f374",
   "metadata": {},
   "outputs": [],
   "source": [
    "from pytube import YouTube\n",
    "\n",
    "def download_video(url):\n",
    "    try:\n",
    "        yt = YouTube(url)\n",
    "        video = yt.streams.get_highest_resolution()\n",
    "        video.download()\n",
    "        print(\"Video downloaded successfully!\")\n",
    "    except Exception as e:\n",
    "        print(\"Error:\", str(e))\n",
    "        \n",
    "video_url = input(\"Enter the YouTube video URL: \")\n",
    "\n",
    "download_video(video_url)"
   ]
  }
 ],
 "metadata": {
  "kernelspec": {
   "display_name": "Python 3 (ipykernel)",
   "language": "python",
   "name": "python3"
  },
  "language_info": {
   "codemirror_mode": {
    "name": "ipython",
    "version": 3
   },
   "file_extension": ".py",
   "mimetype": "text/x-python",
   "name": "python",
   "nbconvert_exporter": "python",
   "pygments_lexer": "ipython3",
   "version": "3.9.18"
  }
 },
 "nbformat": 4,
 "nbformat_minor": 5
}
